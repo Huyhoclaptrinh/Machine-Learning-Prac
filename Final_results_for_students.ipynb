{
  "nbformat": 4,
  "nbformat_minor": 0,
  "metadata": {
    "colab": {
      "provenance": []
    },
    "kernelspec": {
      "name": "python3",
      "display_name": "Python 3"
    },
    "language_info": {
      "name": "python"
    }
  },
  "cells": [
    {
      "cell_type": "code",
      "execution_count": 24,
      "metadata": {
        "colab": {
          "base_uri": "https://localhost:8080/"
        },
        "id": "vSXFnS1bldkH",
        "outputId": "968e849a-97d9-45c9-b426-a982a59cdfd6"
      },
      "outputs": [
        {
          "output_type": "stream",
          "name": "stdout",
          "text": [
            "    4.62365962451697  78.0246928153624  0\n",
            "0          30.286711         43.894998  0\n",
            "1          35.847409         72.902198  0\n",
            "2          60.182599         86.308552  1\n",
            "3          79.032736         75.344376  1\n",
            "4          45.083277         56.316372  0\n",
            "..               ...               ... ..\n",
            "94         83.489163         48.380286  1\n",
            "95         42.261701         87.103851  1\n",
            "96         99.315009         68.775409  1\n",
            "97         55.340018         64.931938  1\n",
            "98         74.775893         89.529813  1\n",
            "\n",
            "[99 rows x 3 columns]\n"
          ]
        }
      ],
      "source": [
        "import pandas as pd\n",
        "import numpy as np\n",
        "\n",
        "\n",
        "# read text file into pandas DataFrame\n",
        "mark = pd.read_csv(\"/content/marks.txt\")\n",
        "  \n",
        "# display DataFrame\n",
        "print(mark)\n"
      ]
    },
    {
      "cell_type": "code",
      "source": [
        "from sklearn import linear_model\n",
        "X = mark.iloc[:,0:2]\n",
        "y = mark.iloc[:,2]\n",
        "\n",
        "train_x = X[:80]\n",
        "train_y = y[:80]\n",
        "\n",
        "test_x = X[10:]\n",
        "test_y = y[10:]\n",
        "\n",
        "logr = linear_model.LogisticRegression()\n",
        "logr.fit(train_x,train_y)\n",
        "\n",
        "pred = logr.predict(test_x)\n",
        "\n",
        "import matplotlib.pyplot as plt\n",
        "import seaborn as sns\n",
        "from sklearn import metrics\n",
        "\n",
        "score = logr.score(test_x, test_y)\n",
        "cm = metrics.confusion_matrix(test_y, pred)\n",
        "\n",
        "plt.figure(figsize=(9,9))\n",
        "sns.heatmap(cm, annot=True, fmt=\".3f\", linewidths=.5, square = True, cmap = 'Blues_r');\n",
        "plt.ylabel('Actual label');\n",
        "plt.xlabel('Predicted label');\n",
        "all_sample_title = 'Accuracy Score: {0}'.format(score)\n",
        "plt.title(all_sample_title, size = 15);"
      ],
      "metadata": {
        "colab": {
          "base_uri": "https://localhost:8080/",
          "height": 520
        },
        "id": "dn-7MnQqx_SD",
        "outputId": "d09976af-d5f9-49c2-9c5f-d4a30149ffa5"
      },
      "execution_count": 29,
      "outputs": [
        {
          "output_type": "display_data",
          "data": {
            "text/plain": [
              "<Figure size 648x648 with 2 Axes>"
            ],
            "image/png": "[encoded data removed]"
          },
          "metadata": {
            "needs_background": "light"
          }
        }
      ]
    },
    {
      "cell_type": "code",
      "source": [
        "from scipy import stats\n",
        "\n",
        "weight = 0.1\n",
        "bias = 0.01\n",
        "def pred(x):\n",
        "  return weight * x + bias\n",
        "\n",
        "pred(test_x)\n",
        "\n",
        "def cost_func(y_true, y_predicted):\n",
        "    cost = np.sum((y_true-y_predicted)**2) / len(y_true)\n",
        "    return cost\n",
        "    \n",
        "cost_func(y,pred(test_x))"
      ],
      "metadata": {
        "colab": {
          "base_uri": "https://localhost:8080/"
        },
        "id": "wcoO14sxeOAL",
        "outputId": "b5b55510-eda5-4aa1-bc8d-5eac5576a1b9"
      },
      "execution_count": 30,
      "outputs": [
        {
          "output_type": "execute_result",
          "data": {
            "text/plain": [
              "4.62365962451697    0.0\n",
              "78.0246928153624    0.0\n",
              "0                   0.0\n",
              "1                   0.0\n",
              "2                   0.0\n",
              "                   ... \n",
              "94                  0.0\n",
              "95                  0.0\n",
              "96                  0.0\n",
              "97                  0.0\n",
              "98                  0.0\n",
              "Length: 101, dtype: float64"
            ]
          },
          "metadata": {},
          "execution_count": 30
        }
      ]
    },
    {
      "cell_type": "code",
      "source": [
        "def normal_equ(x,y):\n",
        "  a = np.dot(x.T,x)\n",
        "  b = np.linalg.pinv(a)\n",
        "  c = np.dot(b, x.T)\n",
        "  theta = np.dot(c, y)\n",
        "  return theta\n",
        "  \n",
        "normal_equ(X,y)"
      ],
      "metadata": {
        "colab": {
          "base_uri": "https://localhost:8080/"
        },
        "id": "u5VPY6JmiJqt",
        "outputId": "79240dfe-4c1e-4351-9a31-aba51d2cc998"
      },
      "execution_count": 31,
      "outputs": [
        {
          "output_type": "execute_result",
          "data": {
            "text/plain": [
              "array([0.00556658, 0.00436593])"
            ]
          },
          "metadata": {},
          "execution_count": 31
        }
      ]
    },
    {
      "cell_type": "code",
      "source": [
        "import random\n",
        "def reg(y,y_pred,lamda, theta,m):\n",
        "  E = 1/(2*m)/(np.sum(y_pred-y)**2 + lamda*np.sum(theta**2))\n",
        "  return E\n",
        "\n",
        "X2 = reg(y,pred(X),0.01,random.random(),len(y))\n",
        "reg(y,pred(X2),0.01,random.random(),len(y))"
      ],
      "metadata": {
        "colab": {
          "base_uri": "https://localhost:8080/"
        },
        "id": "7ymNVN0fiMIr",
        "outputId": "2a017343-1097-456f-fa1d-05fcbe3f4074"
      },
      "execution_count": 32,
      "outputs": [
        {
          "output_type": "execute_result",
          "data": {
            "text/plain": [
              "1.906884347740698e-05"
            ]
          },
          "metadata": {},
          "execution_count": 32
        }
      ]
    }
  ]
}